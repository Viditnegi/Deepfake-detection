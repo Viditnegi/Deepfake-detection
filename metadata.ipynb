{
 "cells": [
  {
   "cell_type": "code",
   "execution_count": 1,
   "id": "768cebce-4ff4-4885-be35-13be1827600e",
   "metadata": {},
   "outputs": [],
   "source": [
    "import os\n",
    "import pandas as pd\n",
    "\n",
    "# Define the directories\n",
    "real_dir = 'dataset/face_only_celeb_real'\n",
    "# real_dir2 = '/content/drive/MyDrive/ML DL data/DeepFake Detection/YouTube-real'\n",
    "fake_dir = 'dataset/face_only_celeb_fake'\n",
    "\n"
   ]
  },
  {
   "cell_type": "code",
   "execution_count": 2,
   "id": "0b188eea-ca60-4f96-8540-9abc67568e6e",
   "metadata": {},
   "outputs": [],
   "source": [
    "# Get the video names\n",
    "real_videos = os.listdir(real_dir)\n",
    "fake_videos = os.listdir(fake_dir)\n",
    "\n"
   ]
  },
  {
   "cell_type": "code",
   "execution_count": 4,
   "id": "f87c8082-ca25-4064-afb2-c17da33c845c",
   "metadata": {},
   "outputs": [
    {
     "data": {
      "text/plain": [
       "588"
      ]
     },
     "execution_count": 4,
     "metadata": {},
     "output_type": "execute_result"
    }
   ],
   "source": [
    "len(set(real_videos))"
   ]
  },
  {
   "cell_type": "code",
   "execution_count": 5,
   "id": "588009a2-243e-41b8-9c98-663775b76b47",
   "metadata": {},
   "outputs": [
    {
     "name": "stdout",
     "output_type": "stream",
     "text": [
      "                      A     B\n",
      "0          id0_0000.mp4  REAL\n",
      "1          id0_0001.mp4  REAL\n",
      "2          id0_0002.mp4  REAL\n",
      "3          id0_0003.mp4  REAL\n",
      "4          id0_0004.mp4  REAL\n",
      "...                 ...   ...\n",
      "1173  id9_id26_0007.mp4  FAKE\n",
      "1174  id9_id26_0008.mp4  FAKE\n",
      "1175   id9_id2_0002.mp4  FAKE\n",
      "1176  id9_id30_0006.mp4  FAKE\n",
      "1177   id9_id3_0002.mp4  FAKE\n",
      "\n",
      "[1178 rows x 2 columns]\n"
     ]
    }
   ],
   "source": [
    "# Create labels\n",
    "real_labels = ['REAL'] * len(real_videos)\n",
    "fake_labels = ['FAKE'] * len(fake_videos)\n",
    "\n",
    "# Combine the video names and labels\n",
    "videos = real_videos + fake_videos\n",
    "labels = real_labels + fake_labels\n",
    "\n",
    "# Create a DataFrame\n",
    "df = pd.DataFrame({\n",
    "    'A': videos,\n",
    "    'B': labels\n",
    "})\n",
    "\n",
    "print(df)\n"
   ]
  },
  {
   "cell_type": "code",
   "execution_count": 8,
   "id": "83f7a2c5-e6f6-4528-82bb-cdcd9a772bdc",
   "metadata": {},
   "outputs": [],
   "source": [
    "# Save the DataFrame to a CSV file\n",
    "df.to_csv('metadata.csv', index=False,header=False)\n"
   ]
  },
  {
   "cell_type": "code",
   "execution_count": null,
   "id": "31a4d8aa-1d1e-4119-aafc-9afb0872ecb1",
   "metadata": {},
   "outputs": [],
   "source": []
  },
  {
   "cell_type": "code",
   "execution_count": null,
   "id": "fef5af9d-f87e-4f73-b50a-09546427e41b",
   "metadata": {},
   "outputs": [],
   "source": []
  },
  {
   "cell_type": "code",
   "execution_count": null,
   "id": "94e7adae-7715-40b8-9318-32f4a5c269b9",
   "metadata": {},
   "outputs": [],
   "source": []
  },
  {
   "cell_type": "code",
   "execution_count": null,
   "id": "feb2a7f1-3a08-4428-a637-a48a5153628f",
   "metadata": {},
   "outputs": [],
   "source": []
  },
  {
   "cell_type": "code",
   "execution_count": null,
   "id": "57974b52-6be2-4a35-905c-d8ddb5ee63c3",
   "metadata": {},
   "outputs": [],
   "source": []
  },
  {
   "cell_type": "code",
   "execution_count": null,
   "id": "8e04b20e-e125-480a-a65f-409bf8f5fcdf",
   "metadata": {},
   "outputs": [],
   "source": []
  }
 ],
 "metadata": {
  "kernelspec": {
   "display_name": "Python 3 (ipykernel)",
   "language": "python",
   "name": "python3"
  },
  "language_info": {
   "codemirror_mode": {
    "name": "ipython",
    "version": 3
   },
   "file_extension": ".py",
   "mimetype": "text/x-python",
   "name": "python",
   "nbconvert_exporter": "python",
   "pygments_lexer": "ipython3",
   "version": "3.11.5"
  }
 },
 "nbformat": 4,
 "nbformat_minor": 5
}
